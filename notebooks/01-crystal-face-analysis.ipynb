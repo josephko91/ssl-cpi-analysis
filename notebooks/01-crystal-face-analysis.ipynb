{
 "cells": [
  {
   "cell_type": "code",
   "execution_count": 1,
   "metadata": {},
   "outputs": [],
   "source": [
    "import pandas as pd\n",
    "import xarray as xr\n",
    "import os"
   ]
  },
  {
   "cell_type": "markdown",
   "metadata": {},
   "source": [
    "# QA Check"
   ]
  },
  {
   "cell_type": "code",
   "execution_count": 4,
   "metadata": {},
   "outputs": [
    {
     "name": "stdout",
     "output_type": "stream",
     "text": [
      "File summary: CRYSTAL_FACE_NASA campaign\n",
      "# files in png dir: 78152\n",
      "# files in environmental dataframe: 61858\n",
      "# files that match between the two: 61858\n",
      "# matching files within WRF period: 13886\n"
     ]
    }
   ],
   "source": [
    "# CRYSTAL_FACE_NASA\n",
    "# Check how many files match with env data \n",
    "\n",
    "# compare png files to filenames in merged_env\n",
    "env_file = '/home/vanessa/hulk/cocpit/final_databases/vgg16/v1.4.0/merged_env/CRYSTAL_FACE_NASA.csv'\n",
    "png_dir = '/home/vanessa/hulk/cocpit/cpi_data/campaigns/CRYSTAL_FACE_NASA/single_imgs_v1.4.0'\n",
    "wrf_filelist = '/home/jko/ssl-cpi-analysis/CRYSTAL_FACE_NASA_filelist.txt'\n",
    "df_env_nasa = pd.read_csv(env_file)\n",
    "# get list of all files in png_dir\n",
    "filenames_nasa = [f for f in os.listdir(png_dir) if os.path.isfile(os.path.join(png_dir, f))]\n",
    "# get matching files and check how many\n",
    "matches_nasa = df_env_nasa['filename'][df_env_nasa['filename'].isin(filenames_nasa)].tolist()\n",
    "# narrow down to those matching WRF simulation day (2002-07-28)\n",
    "with open(wrf_filelist, 'r') as f:\n",
    "    filenames_wrf = [line.strip() for line in f if line.strip()]\n",
    "matches_wrf_nasa = list(set(matches_nasa) & set(filenames_wrf))\n",
    "# Summary of files \n",
    "print('File summary: CRYSTAL_FACE_NASA campaign')\n",
    "print(f'# files in png dir: {len(filenames_nasa)}')\n",
    "print(f'# files in environmental dataframe: {len(df_env_nasa)}')\n",
    "print(f'# files that match between the two: {len(matches_nasa)}')\n",
    "print(f'# matching files within WRF period: {len(matches_wrf_nasa)}')"
   ]
  },
  {
   "cell_type": "code",
   "execution_count": 5,
   "metadata": {},
   "outputs": [
    {
     "name": "stdout",
     "output_type": "stream",
     "text": [
      "File summary: CRYSTAL_FACE_UND campaign\n",
      "# files in png dir: 1617826\n",
      "# files in environmental dataframe: 396138\n",
      "# files that match between the two: 396138\n",
      "# matching files within WRF period: 10907\n"
     ]
    }
   ],
   "source": [
    "# CRYSTAL_FACE_UND\n",
    "# Check how many files match with env data \n",
    "\n",
    "# compare png files to filenames in merged_env\n",
    "env_file = '/home/vanessa/hulk/cocpit/final_databases/vgg16/v1.4.0/merged_env/CRYSTAL_FACE_UND.csv'\n",
    "png_dir = '/home/vanessa/hulk/cocpit/cpi_data/campaigns/CRYSTAL_FACE_UND/single_imgs_v1.4.0'\n",
    "wrf_filelist = '/home/jko/ssl-cpi-analysis/CRYSTAL_FACE_UND_filelist.txt'\n",
    "df_env_und = pd.read_csv(env_file)\n",
    "# get list of all files in png_dir\n",
    "filenames_und = [f for f in os.listdir(png_dir) if os.path.isfile(os.path.join(png_dir, f))]\n",
    "# get matching files and check how many\n",
    "matches_und = df_env_und['filename'][df_env_und['filename'].isin(filenames_und)].tolist()\n",
    "# narrow down to those matching WRF simulation day (2002-07-28)\n",
    "with open(wrf_filelist, 'r') as f:\n",
    "    filenames_wrf = [line.strip() for line in f if line.strip()]\n",
    "matches_wrf_und = list(set(matches_und) & set(filenames_wrf))\n",
    "# Summary of files \n",
    "print('File summary: CRYSTAL_FACE_UND campaign')\n",
    "print(f'# files in png dir: {len(filenames_und)}')\n",
    "print(f'# files in environmental dataframe: {len(df_env_und)}')\n",
    "print(f'# files that match between the two: {len(matches_und)}')\n",
    "print(f'# matching files within WRF period: {len(matches_wrf_und)}')"
   ]
  },
  {
   "cell_type": "markdown",
   "metadata": {},
   "source": [
    "# Check Habit Distributions"
   ]
  },
  {
   "cell_type": "code",
   "execution_count": 2,
   "metadata": {},
   "outputs": [
    {
     "name": "stdout",
     "output_type": "stream",
     "text": [
      "File summary: CRYSTAL_FACE_NASA campaign\n",
      "# files in png dir: 17838\n",
      "# files in environmental dataframe: 61858\n",
      "# files that match between the two: 0\n",
      "File summary: CRYSTAL_FACE_UND campaign\n",
      "# files in png dir: 21884\n",
      "# files in environmental dataframe: 396138\n",
      "# files that match between the two: 7572\n"
     ]
    }
   ],
   "source": [
    "# Combine filelist and environmental data from both campaigns\n",
    "campaign_list = ['CRYSTAL_FACE_NASA', 'CRYSTAL_FACE_UND']\n",
    "df_list = [] \n",
    "for campaign in campaign_list:\n",
    "    env_file = f'/glade/derecho/scratch/joko/cpi/env/{campaign}_env.csv'\n",
    "    png_dir = f'/glade/derecho/scratch/joko/cpi/{campaign}'\n",
    "    df_env = pd.read_csv(env_file)\n",
    "    # get list of all files in png_dir\n",
    "    filenames = [f for f in os.listdir(png_dir) if os.path.isfile(os.path.join(png_dir, f))]\n",
    "    # get matching files and check how many\n",
    "    matches = df_env['filename'][df_env['filename'].isin(filenames)].tolist()\n",
    "    # print summary\n",
    "    print(f'File summary: {campaign} campaign')\n",
    "    print(f'# files in png dir: {len(filenames)}')\n",
    "    print(f'# files in environmental dataframe: {len(df_env)}')\n",
    "    print(f'# files that match between the two: {len(matches)}')\n",
    "    # add to df list\n",
    "    df_list.append(df_env[df_env['filename'].isin(matches)])\n",
    "# Combine all dataframes into one\n",
    "df_combined = pd.concat(df_list, ignore_index=True)"
   ]
  },
  {
   "cell_type": "code",
   "execution_count": 3,
   "metadata": {},
   "outputs": [
    {
     "name": "stdout",
     "output_type": "stream",
     "text": [
      "(7572, 8)\n"
     ]
    },
    {
     "data": {
      "text/html": [
       "<div>\n",
       "<style scoped>\n",
       "    .dataframe tbody tr th:only-of-type {\n",
       "        vertical-align: middle;\n",
       "    }\n",
       "\n",
       "    .dataframe tbody tr th {\n",
       "        vertical-align: top;\n",
       "    }\n",
       "\n",
       "    .dataframe thead th {\n",
       "        text-align: right;\n",
       "    }\n",
       "</style>\n",
       "<table border=\"1\" class=\"dataframe\">\n",
       "  <thead>\n",
       "    <tr style=\"text-align: right;\">\n",
       "      <th></th>\n",
       "      <th>filename</th>\n",
       "      <th>date</th>\n",
       "      <th>latitude</th>\n",
       "      <th>longitude</th>\n",
       "      <th>altitude</th>\n",
       "      <th>pressure</th>\n",
       "      <th>temp</th>\n",
       "      <th>iwc</th>\n",
       "    </tr>\n",
       "  </thead>\n",
       "  <tbody>\n",
       "    <tr>\n",
       "      <th>0</th>\n",
       "      <td>2002_0728_195434_835_3.png</td>\n",
       "      <td>2002-07-28 19:54:34</td>\n",
       "      <td>25.233821</td>\n",
       "      <td>-81.374428</td>\n",
       "      <td>8276.779297</td>\n",
       "      <td>364.442395</td>\n",
       "      <td>-22.947568</td>\n",
       "      <td>0.473688</td>\n",
       "    </tr>\n",
       "    <tr>\n",
       "      <th>1</th>\n",
       "      <td>2002_0728_195436_99_31.png</td>\n",
       "      <td>2002-07-28 19:54:36</td>\n",
       "      <td>25.235585</td>\n",
       "      <td>-81.375548</td>\n",
       "      <td>8283.896680</td>\n",
       "      <td>364.079346</td>\n",
       "      <td>-22.978956</td>\n",
       "      <td>0.652124</td>\n",
       "    </tr>\n",
       "    <tr>\n",
       "      <th>2</th>\n",
       "      <td>2002_0728_195436_99_33.png</td>\n",
       "      <td>2002-07-28 19:54:36</td>\n",
       "      <td>25.235585</td>\n",
       "      <td>-81.375548</td>\n",
       "      <td>8283.896680</td>\n",
       "      <td>364.079346</td>\n",
       "      <td>-22.978956</td>\n",
       "      <td>0.652124</td>\n",
       "    </tr>\n",
       "    <tr>\n",
       "      <th>3</th>\n",
       "      <td>2002_0728_195436_287_4.png</td>\n",
       "      <td>2002-07-28 19:54:36</td>\n",
       "      <td>25.235585</td>\n",
       "      <td>-81.375548</td>\n",
       "      <td>8283.896680</td>\n",
       "      <td>364.079346</td>\n",
       "      <td>-22.978956</td>\n",
       "      <td>0.652124</td>\n",
       "    </tr>\n",
       "    <tr>\n",
       "      <th>4</th>\n",
       "      <td>2002_0728_195436_99_36.png</td>\n",
       "      <td>2002-07-28 19:54:36</td>\n",
       "      <td>25.235585</td>\n",
       "      <td>-81.375548</td>\n",
       "      <td>8283.896680</td>\n",
       "      <td>364.079346</td>\n",
       "      <td>-22.978956</td>\n",
       "      <td>0.652124</td>\n",
       "    </tr>\n",
       "  </tbody>\n",
       "</table>\n",
       "</div>"
      ],
      "text/plain": [
       "                     filename                 date   latitude  longitude  \\\n",
       "0  2002_0728_195434_835_3.png  2002-07-28 19:54:34  25.233821 -81.374428   \n",
       "1  2002_0728_195436_99_31.png  2002-07-28 19:54:36  25.235585 -81.375548   \n",
       "2  2002_0728_195436_99_33.png  2002-07-28 19:54:36  25.235585 -81.375548   \n",
       "3  2002_0728_195436_287_4.png  2002-07-28 19:54:36  25.235585 -81.375548   \n",
       "4  2002_0728_195436_99_36.png  2002-07-28 19:54:36  25.235585 -81.375548   \n",
       "\n",
       "      altitude    pressure       temp       iwc  \n",
       "0  8276.779297  364.442395 -22.947568  0.473688  \n",
       "1  8283.896680  364.079346 -22.978956  0.652124  \n",
       "2  8283.896680  364.079346 -22.978956  0.652124  \n",
       "3  8283.896680  364.079346 -22.978956  0.652124  \n",
       "4  8283.896680  364.079346 -22.978956  0.652124  "
      ]
     },
     "execution_count": 3,
     "metadata": {},
     "output_type": "execute_result"
    }
   ],
   "source": [
    "print(df_combined.shape)\n",
    "df_combined.head()"
   ]
  },
  {
   "cell_type": "code",
   "execution_count": null,
   "metadata": {},
   "outputs": [],
   "source": []
  },
  {
   "cell_type": "code",
   "execution_count": null,
   "metadata": {},
   "outputs": [],
   "source": []
  }
 ],
 "metadata": {
  "kernelspec": {
   "display_name": "npl",
   "language": "python",
   "name": "npl"
  },
  "language_info": {
   "codemirror_mode": {
    "name": "ipython",
    "version": 3
   },
   "file_extension": ".py",
   "mimetype": "text/x-python",
   "name": "python",
   "nbconvert_exporter": "python",
   "pygments_lexer": "ipython3",
   "version": "3.12.8"
  },
  "orig_nbformat": 4,
  "vscode": {
   "interpreter": {
    "hash": "8658764d9b797a2c8f9923ddcd38c86560d2e4c4233111378203e5da49e50175"
   }
  }
 },
 "nbformat": 4,
 "nbformat_minor": 2
}
