{
 "cells": [
  {
   "cell_type": "code",
   "execution_count": 1,
   "metadata": {},
   "outputs": [],
   "source": [
    "import pandas as pd\n",
    "import xarray as xr\n",
    "import os"
   ]
  },
  {
   "cell_type": "markdown",
   "metadata": {},
   "source": [
    "# QA Check"
   ]
  },
  {
   "cell_type": "code",
   "execution_count": 4,
   "metadata": {},
   "outputs": [
    {
     "name": "stdout",
     "output_type": "stream",
     "text": [
      "File summary: CRYSTAL_FACE_NASA campaign\n",
      "# files in png dir: 78152\n",
      "# files in environmental dataframe: 61858\n",
      "# files that match between the two: 61858\n",
      "# matching files within WRF period: 13886\n"
     ]
    }
   ],
   "source": [
    "# CRYSTAL_FACE_NASA\n",
    "# Check how many files match with env data \n",
    "\n",
    "# compare png files to filenames in merged_env\n",
    "env_file = '/home/vanessa/hulk/cocpit/final_databases/vgg16/v1.4.0/merged_env/CRYSTAL_FACE_NASA.csv'\n",
    "png_dir = '/home/vanessa/hulk/cocpit/cpi_data/campaigns/CRYSTAL_FACE_NASA/single_imgs_v1.4.0'\n",
    "wrf_filelist = '/home/jko/ssl-cpi-analysis/CRYSTAL_FACE_NASA_filelist.txt'\n",
    "df_env_nasa = pd.read_csv(env_file)\n",
    "# get list of all files in png_dir\n",
    "filenames_nasa = [f for f in os.listdir(png_dir) if os.path.isfile(os.path.join(png_dir, f))]\n",
    "# get matching files and check how many\n",
    "matches_nasa = df_env_nasa['filename'][df_env_nasa['filename'].isin(filenames_nasa)].tolist()\n",
    "# narrow down to those matching WRF simulation day (2002-07-28)\n",
    "with open(wrf_filelist, 'r') as f:\n",
    "    filenames_wrf = [line.strip() for line in f if line.strip()]\n",
    "matches_wrf_nasa = list(set(matches_nasa) & set(filenames_wrf))\n",
    "# Summary of files \n",
    "print('File summary: CRYSTAL_FACE_NASA campaign')\n",
    "print(f'# files in png dir: {len(filenames_nasa)}')\n",
    "print(f'# files in environmental dataframe: {len(df_env_nasa)}')\n",
    "print(f'# files that match between the two: {len(matches_nasa)}')\n",
    "print(f'# matching files within WRF period: {len(matches_wrf_nasa)}')"
   ]
  },
  {
   "cell_type": "code",
   "execution_count": 5,
   "metadata": {},
   "outputs": [
    {
     "name": "stdout",
     "output_type": "stream",
     "text": [
      "File summary: CRYSTAL_FACE_UND campaign\n",
      "# files in png dir: 1617826\n",
      "# files in environmental dataframe: 396138\n",
      "# files that match between the two: 396138\n",
      "# matching files within WRF period: 10907\n"
     ]
    }
   ],
   "source": [
    "# CRYSTAL_FACE_UND\n",
    "# Check how many files match with env data \n",
    "\n",
    "# compare png files to filenames in merged_env\n",
    "env_file = '/home/vanessa/hulk/cocpit/final_databases/vgg16/v1.4.0/merged_env/CRYSTAL_FACE_UND.csv'\n",
    "png_dir = '/home/vanessa/hulk/cocpit/cpi_data/campaigns/CRYSTAL_FACE_UND/single_imgs_v1.4.0'\n",
    "wrf_filelist = '/home/jko/ssl-cpi-analysis/CRYSTAL_FACE_UND_filelist.txt'\n",
    "df_env_und = pd.read_csv(env_file)\n",
    "# get list of all files in png_dir\n",
    "filenames_und = [f for f in os.listdir(png_dir) if os.path.isfile(os.path.join(png_dir, f))]\n",
    "# get matching files and check how many\n",
    "matches_und = df_env_und['filename'][df_env_und['filename'].isin(filenames_und)].tolist()\n",
    "# narrow down to those matching WRF simulation day (2002-07-28)\n",
    "with open(wrf_filelist, 'r') as f:\n",
    "    filenames_wrf = [line.strip() for line in f if line.strip()]\n",
    "matches_wrf_und = list(set(matches_und) & set(filenames_wrf))\n",
    "# Summary of files \n",
    "print('File summary: CRYSTAL_FACE_UND campaign')\n",
    "print(f'# files in png dir: {len(filenames_und)}')\n",
    "print(f'# files in environmental dataframe: {len(df_env_und)}')\n",
    "print(f'# files that match between the two: {len(matches_und)}')\n",
    "print(f'# matching files within WRF period: {len(matches_wrf_und)}')"
   ]
  },
  {
   "cell_type": "markdown",
   "metadata": {},
   "source": [
    "# Check Habit Distributions"
   ]
  },
  {
   "cell_type": "code",
   "execution_count": null,
   "metadata": {},
   "outputs": [],
   "source": [
    "env_file = '/home/vanessa/hulk/cocpit/final_databases/vgg16/v1.4.0/merged_env/CRYSTAL_FACE_NASA.csv'\n",
    "png_dir = '/home/vanessa/hulk/cocpit/cpi_data/campaigns/CRYSTAL_FACE_NASA/single_imgs_v1.4.0'"
   ]
  },
  {
   "cell_type": "code",
   "execution_count": 4,
   "metadata": {},
   "outputs": [
    {
     "name": "stdout",
     "output_type": "stream",
     "text": [
      "File summary: CRYSTAL_FACE_NASA campaign\n",
      "# files in png dir: 78152\n",
      "# files in environmental dataframe: 61858\n",
      "# files that match between the two: 61858\n",
      "File summary: CRYSTAL_FACE_UND campaign\n",
      "# files in png dir: 1617826\n",
      "# files in environmental dataframe: 396138\n",
      "# files that match between the two: 396138\n"
     ]
    }
   ],
   "source": [
    "# Combine filelist and environmental data from both campaigns\n",
    "campaign_list = ['CRYSTAL_FACE_NASA', 'CRYSTAL_FACE_UND']\n",
    "df_list = [] \n",
    "for campaign in campaign_list:\n",
    "    env_file = f'/home/vanessa/hulk/cocpit/final_databases/vgg16/v1.4.0/merged_env/{campaign}.csv'\n",
    "    png_dir = f'/home/vanessa/hulk/cocpit/cpi_data/campaigns/{campaign}/single_imgs_v1.4.0'\n",
    "    df_env = pd.read_csv(env_file)\n",
    "    # get list of all files in png_dir\n",
    "    filenames = [f for f in os.listdir(png_dir) if os.path.isfile(os.path.join(png_dir, f))]\n",
    "    # get matching files and check how many\n",
    "    matches = df_env['filename'][df_env['filename'].isin(filenames)].tolist()\n",
    "    # print summary\n",
    "    print(f'File summary: {campaign} campaign')\n",
    "    print(f'# files in png dir: {len(filenames)}')\n",
    "    print(f'# files in environmental dataframe: {len(df_env)}')\n",
    "    print(f'# files that match between the two: {len(matches)}')\n",
    "    # add to df list\n",
    "    df_list.append(df_env[df_env['filename'].isin(matches)])\n",
    "# Combine all dataframes into one\n",
    "df_combined = pd.concat(df_list, ignore_index=True)"
   ]
  },
  {
   "cell_type": "code",
   "execution_count": 5,
   "metadata": {},
   "outputs": [
    {
     "name": "stdout",
     "output_type": "stream",
     "text": [
      "(457996, 46)\n"
     ]
    },
    {
     "data": {
      "text/html": [
       "<div>\n",
       "<style scoped>\n",
       "    .dataframe tbody tr th:only-of-type {\n",
       "        vertical-align: middle;\n",
       "    }\n",
       "\n",
       "    .dataframe tbody tr th {\n",
       "        vertical-align: top;\n",
       "    }\n",
       "\n",
       "    .dataframe thead th {\n",
       "        text-align: right;\n",
       "    }\n",
       "</style>\n",
       "<table border=\"1\" class=\"dataframe\">\n",
       "  <thead>\n",
       "    <tr style=\"text-align: right;\">\n",
       "      <th></th>\n",
       "      <th>Unnamed: 0</th>\n",
       "      <th>filename</th>\n",
       "      <th>date</th>\n",
       "      <th>Frame Width [pixels]</th>\n",
       "      <th>Frame Height [pixels]</th>\n",
       "      <th>Particle Width [micrometers]</th>\n",
       "      <th>Particle Height [micrometers]</th>\n",
       "      <th>Cutoff [%]</th>\n",
       "      <th>Aggregate [%]</th>\n",
       "      <th>Budding [%]</th>\n",
       "      <th>...</th>\n",
       "      <th>Latitude [degrees]</th>\n",
       "      <th>Longitude [degrees]</th>\n",
       "      <th>Altitude [m]</th>\n",
       "      <th>Pressure [hPa]</th>\n",
       "      <th>Temperature [C]</th>\n",
       "      <th>Ice Water Content [g/m3]</th>\n",
       "      <th>PSD IWC [g/m3]</th>\n",
       "      <th>concentration ratio</th>\n",
       "      <th>area ratio</th>\n",
       "      <th>mass ratio</th>\n",
       "    </tr>\n",
       "  </thead>\n",
       "  <tbody>\n",
       "    <tr>\n",
       "      <th>0</th>\n",
       "      <td>0</td>\n",
       "      <td>2002_0709_153418_95_10.png</td>\n",
       "      <td>2002-07-09 15:34:18</td>\n",
       "      <td>58.0</td>\n",
       "      <td>74.0</td>\n",
       "      <td>108.134</td>\n",
       "      <td>141.827</td>\n",
       "      <td>7.20</td>\n",
       "      <td>0.000</td>\n",
       "      <td>0.0</td>\n",
       "      <td>...</td>\n",
       "      <td>-999.99</td>\n",
       "      <td>-999.99</td>\n",
       "      <td>-999.99</td>\n",
       "      <td>-999.99</td>\n",
       "      <td>-999.99</td>\n",
       "      <td>-999.99</td>\n",
       "      <td>-999.99</td>\n",
       "      <td>0.0</td>\n",
       "      <td>0.0</td>\n",
       "      <td>0.0</td>\n",
       "    </tr>\n",
       "    <tr>\n",
       "      <th>1</th>\n",
       "      <td>1</td>\n",
       "      <td>2002_0709_153418_95_12.png</td>\n",
       "      <td>2002-07-09 15:34:18</td>\n",
       "      <td>46.0</td>\n",
       "      <td>50.0</td>\n",
       "      <td>70.603</td>\n",
       "      <td>89.162</td>\n",
       "      <td>6.77</td>\n",
       "      <td>0.000</td>\n",
       "      <td>0.0</td>\n",
       "      <td>...</td>\n",
       "      <td>-999.99</td>\n",
       "      <td>-999.99</td>\n",
       "      <td>-999.99</td>\n",
       "      <td>-999.99</td>\n",
       "      <td>-999.99</td>\n",
       "      <td>-999.99</td>\n",
       "      <td>-999.99</td>\n",
       "      <td>0.0</td>\n",
       "      <td>0.0</td>\n",
       "      <td>0.0</td>\n",
       "    </tr>\n",
       "    <tr>\n",
       "      <th>2</th>\n",
       "      <td>2</td>\n",
       "      <td>2002_0709_153418_95_18.png</td>\n",
       "      <td>2002-07-09 15:34:18</td>\n",
       "      <td>162.0</td>\n",
       "      <td>224.0</td>\n",
       "      <td>422.582</td>\n",
       "      <td>335.481</td>\n",
       "      <td>1.94</td>\n",
       "      <td>69.511</td>\n",
       "      <td>0.0</td>\n",
       "      <td>...</td>\n",
       "      <td>-999.99</td>\n",
       "      <td>-999.99</td>\n",
       "      <td>-999.99</td>\n",
       "      <td>-999.99</td>\n",
       "      <td>-999.99</td>\n",
       "      <td>-999.99</td>\n",
       "      <td>-999.99</td>\n",
       "      <td>0.0</td>\n",
       "      <td>0.0</td>\n",
       "      <td>0.0</td>\n",
       "    </tr>\n",
       "    <tr>\n",
       "      <th>3</th>\n",
       "      <td>3</td>\n",
       "      <td>2002_0709_153423_137_39.png</td>\n",
       "      <td>2002-07-09 15:34:23</td>\n",
       "      <td>192.0</td>\n",
       "      <td>138.0</td>\n",
       "      <td>279.681</td>\n",
       "      <td>417.883</td>\n",
       "      <td>3.79</td>\n",
       "      <td>69.227</td>\n",
       "      <td>0.0</td>\n",
       "      <td>...</td>\n",
       "      <td>-999.99</td>\n",
       "      <td>-999.99</td>\n",
       "      <td>-999.99</td>\n",
       "      <td>-999.99</td>\n",
       "      <td>-999.99</td>\n",
       "      <td>-999.99</td>\n",
       "      <td>-999.99</td>\n",
       "      <td>0.0</td>\n",
       "      <td>0.0</td>\n",
       "      <td>0.0</td>\n",
       "    </tr>\n",
       "    <tr>\n",
       "      <th>4</th>\n",
       "      <td>4</td>\n",
       "      <td>2002_0709_153423_137_5.png</td>\n",
       "      <td>2002-07-09 15:34:23</td>\n",
       "      <td>122.0</td>\n",
       "      <td>130.0</td>\n",
       "      <td>247.511</td>\n",
       "      <td>233.688</td>\n",
       "      <td>0.00</td>\n",
       "      <td>0.000</td>\n",
       "      <td>0.0</td>\n",
       "      <td>...</td>\n",
       "      <td>-999.99</td>\n",
       "      <td>-999.99</td>\n",
       "      <td>-999.99</td>\n",
       "      <td>-999.99</td>\n",
       "      <td>-999.99</td>\n",
       "      <td>-999.99</td>\n",
       "      <td>-999.99</td>\n",
       "      <td>0.0</td>\n",
       "      <td>0.0</td>\n",
       "      <td>0.0</td>\n",
       "    </tr>\n",
       "  </tbody>\n",
       "</table>\n",
       "<p>5 rows × 46 columns</p>\n",
       "</div>"
      ],
      "text/plain": [
       "   Unnamed: 0                     filename                 date  \\\n",
       "0           0   2002_0709_153418_95_10.png  2002-07-09 15:34:18   \n",
       "1           1   2002_0709_153418_95_12.png  2002-07-09 15:34:18   \n",
       "2           2   2002_0709_153418_95_18.png  2002-07-09 15:34:18   \n",
       "3           3  2002_0709_153423_137_39.png  2002-07-09 15:34:23   \n",
       "4           4   2002_0709_153423_137_5.png  2002-07-09 15:34:23   \n",
       "\n",
       "   Frame Width [pixels]  Frame Height [pixels]  Particle Width [micrometers]  \\\n",
       "0                  58.0                   74.0                       108.134   \n",
       "1                  46.0                   50.0                        70.603   \n",
       "2                 162.0                  224.0                       422.582   \n",
       "3                 192.0                  138.0                       279.681   \n",
       "4                 122.0                  130.0                       247.511   \n",
       "\n",
       "   Particle Height [micrometers]  Cutoff [%]  Aggregate [%]  Budding [%]  ...  \\\n",
       "0                        141.827        7.20          0.000          0.0  ...   \n",
       "1                         89.162        6.77          0.000          0.0  ...   \n",
       "2                        335.481        1.94         69.511          0.0  ...   \n",
       "3                        417.883        3.79         69.227          0.0  ...   \n",
       "4                        233.688        0.00          0.000          0.0  ...   \n",
       "\n",
       "   Latitude [degrees]  Longitude [degrees]  Altitude [m]  Pressure [hPa]  \\\n",
       "0             -999.99              -999.99       -999.99         -999.99   \n",
       "1             -999.99              -999.99       -999.99         -999.99   \n",
       "2             -999.99              -999.99       -999.99         -999.99   \n",
       "3             -999.99              -999.99       -999.99         -999.99   \n",
       "4             -999.99              -999.99       -999.99         -999.99   \n",
       "\n",
       "   Temperature [C]  Ice Water Content [g/m3]  PSD IWC [g/m3]  \\\n",
       "0          -999.99                   -999.99         -999.99   \n",
       "1          -999.99                   -999.99         -999.99   \n",
       "2          -999.99                   -999.99         -999.99   \n",
       "3          -999.99                   -999.99         -999.99   \n",
       "4          -999.99                   -999.99         -999.99   \n",
       "\n",
       "  concentration ratio  area ratio  mass ratio  \n",
       "0                 0.0         0.0         0.0  \n",
       "1                 0.0         0.0         0.0  \n",
       "2                 0.0         0.0         0.0  \n",
       "3                 0.0         0.0         0.0  \n",
       "4                 0.0         0.0         0.0  \n",
       "\n",
       "[5 rows x 46 columns]"
      ]
     },
     "execution_count": 5,
     "metadata": {},
     "output_type": "execute_result"
    }
   ],
   "source": [
    "print(df_combined.shape)\n",
    "df_combined.head()"
   ]
  },
  {
   "cell_type": "code",
   "execution_count": 6,
   "metadata": {},
   "outputs": [
    {
     "name": "stdout",
     "output_type": "stream",
     "text": [
      "Classification\n",
      "compact_irreg         300731\n",
      "agg                    78077\n",
      "planar_polycrystal     34240\n",
      "rimed                  29847\n",
      "column                 11314\n",
      "budding                 3099\n",
      "bullet                   688\n",
      "Name: count, dtype: int64\n"
     ]
    }
   ],
   "source": [
    "# using the combined df, get the counts of each unique value of Classification\n",
    "classification_counts = df_combined['Classification'].value_counts()\n",
    "print(classification_counts)"
   ]
  },
  {
   "cell_type": "code",
   "execution_count": null,
   "metadata": {},
   "outputs": [],
   "source": []
  },
  {
   "cell_type": "code",
   "execution_count": null,
   "metadata": {},
   "outputs": [],
   "source": []
  },
  {
   "cell_type": "code",
   "execution_count": null,
   "metadata": {},
   "outputs": [],
   "source": []
  },
  {
   "cell_type": "code",
   "execution_count": null,
   "metadata": {},
   "outputs": [],
   "source": []
  }
 ],
 "metadata": {
  "kernelspec": {
   "display_name": "Python 3.13.3 ('torch': conda)",
   "language": "python",
   "name": "python3"
  },
  "language_info": {
   "codemirror_mode": {
    "name": "ipython",
    "version": 3
   },
   "file_extension": ".py",
   "mimetype": "text/x-python",
   "name": "python",
   "nbconvert_exporter": "python",
   "pygments_lexer": "ipython3",
   "version": "3.13.3"
  },
  "orig_nbformat": 4,
  "vscode": {
   "interpreter": {
    "hash": "8658764d9b797a2c8f9923ddcd38c86560d2e4c4233111378203e5da49e50175"
   }
  }
 },
 "nbformat": 4,
 "nbformat_minor": 2
}
