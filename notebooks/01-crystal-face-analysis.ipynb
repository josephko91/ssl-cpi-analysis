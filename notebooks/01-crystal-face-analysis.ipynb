{
 "cells": [
  {
   "cell_type": "code",
   "execution_count": 1,
   "metadata": {},
   "outputs": [],
   "source": [
    "import pandas as pd\n",
    "import xarray as xr\n",
    "import os"
   ]
  },
  {
   "cell_type": "markdown",
   "metadata": {},
   "source": [
    "# QA Check"
   ]
  },
  {
   "cell_type": "code",
   "execution_count": 4,
   "metadata": {},
   "outputs": [
    {
     "name": "stdout",
     "output_type": "stream",
     "text": [
      "File summary: CRYSTAL_FACE_NASA campaign\n",
      "# files in png dir: 78152\n",
      "# files in environmental dataframe: 61858\n",
      "# files that match between the two: 61858\n",
      "# matching files within WRF period: 13886\n"
     ]
    }
   ],
   "source": [
    "# CRYSTAL_FACE_NASA\n",
    "# Check how many files match with env data \n",
    "\n",
    "# compare png files to filenames in merged_env\n",
    "env_file = '/home/vanessa/hulk/cocpit/final_databases/vgg16/v1.4.0/merged_env/CRYSTAL_FACE_NASA.csv'\n",
    "png_dir = '/home/vanessa/hulk/cocpit/cpi_data/campaigns/CRYSTAL_FACE_NASA/single_imgs_v1.4.0'\n",
    "wrf_filelist = '/home/jko/ssl-cpi-analysis/CRYSTAL_FACE_NASA_filelist.txt'\n",
    "df_env_nasa = pd.read_csv(env_file)\n",
    "# get list of all files in png_dir\n",
    "filenames_nasa = [f for f in os.listdir(png_dir) if os.path.isfile(os.path.join(png_dir, f))]\n",
    "# get matching files and check how many\n",
    "matches_nasa = df_env_nasa['filename'][df_env_nasa['filename'].isin(filenames_nasa)].tolist()\n",
    "# narrow down to those matching WRF simulation day (2002-07-28)\n",
    "with open(wrf_filelist, 'r') as f:\n",
    "    filenames_wrf = [line.strip() for line in f if line.strip()]\n",
    "matches_wrf_nasa = list(set(matches_nasa) & set(filenames_wrf))\n",
    "# Summary of files \n",
    "print('File summary: CRYSTAL_FACE_NASA campaign')\n",
    "print(f'# files in png dir: {len(filenames_nasa)}')\n",
    "print(f'# files in environmental dataframe: {len(df_env_nasa)}')\n",
    "print(f'# files that match between the two: {len(matches_nasa)}')\n",
    "print(f'# matching files within WRF period: {len(matches_wrf_nasa)}')"
   ]
  },
  {
   "cell_type": "code",
   "execution_count": 5,
   "metadata": {},
   "outputs": [
    {
     "name": "stdout",
     "output_type": "stream",
     "text": [
      "File summary: CRYSTAL_FACE_UND campaign\n",
      "# files in png dir: 1617826\n",
      "# files in environmental dataframe: 396138\n",
      "# files that match between the two: 396138\n",
      "# matching files within WRF period: 10907\n"
     ]
    }
   ],
   "source": [
    "# CRYSTAL_FACE_UND\n",
    "# Check how many files match with env data \n",
    "\n",
    "# compare png files to filenames in merged_env\n",
    "env_file = '/home/vanessa/hulk/cocpit/final_databases/vgg16/v1.4.0/merged_env/CRYSTAL_FACE_UND.csv'\n",
    "png_dir = '/home/vanessa/hulk/cocpit/cpi_data/campaigns/CRYSTAL_FACE_UND/single_imgs_v1.4.0'\n",
    "wrf_filelist = '/home/jko/ssl-cpi-analysis/CRYSTAL_FACE_UND_filelist.txt'\n",
    "df_env_und = pd.read_csv(env_file)\n",
    "# get list of all files in png_dir\n",
    "filenames_und = [f for f in os.listdir(png_dir) if os.path.isfile(os.path.join(png_dir, f))]\n",
    "# get matching files and check how many\n",
    "matches_und = df_env_und['filename'][df_env_und['filename'].isin(filenames_und)].tolist()\n",
    "# narrow down to those matching WRF simulation day (2002-07-28)\n",
    "with open(wrf_filelist, 'r') as f:\n",
    "    filenames_wrf = [line.strip() for line in f if line.strip()]\n",
    "matches_wrf_und = list(set(matches_und) & set(filenames_wrf))\n",
    "# Summary of files \n",
    "print('File summary: CRYSTAL_FACE_UND campaign')\n",
    "print(f'# files in png dir: {len(filenames_und)}')\n",
    "print(f'# files in environmental dataframe: {len(df_env_und)}')\n",
    "print(f'# files that match between the two: {len(matches_und)}')\n",
    "print(f'# matching files within WRF period: {len(matches_wrf_und)}')"
   ]
  },
  {
   "cell_type": "code",
   "execution_count": null,
   "metadata": {},
   "outputs": [],
   "source": []
  },
  {
   "cell_type": "code",
   "execution_count": null,
   "metadata": {},
   "outputs": [],
   "source": []
  }
 ],
 "metadata": {
  "kernelspec": {
   "display_name": "Python 3.13.3 ('torch')",
   "language": "python",
   "name": "python3"
  },
  "language_info": {
   "codemirror_mode": {
    "name": "ipython",
    "version": 3
   },
   "file_extension": ".py",
   "mimetype": "text/x-python",
   "name": "python",
   "nbconvert_exporter": "python",
   "pygments_lexer": "ipython3",
   "version": "3.13.3"
  },
  "orig_nbformat": 4,
  "vscode": {
   "interpreter": {
    "hash": "8658764d9b797a2c8f9923ddcd38c86560d2e4c4233111378203e5da49e50175"
   }
  }
 },
 "nbformat": 4,
 "nbformat_minor": 2
}
